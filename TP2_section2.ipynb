{
 "cells": [
  {
   "cell_type": "markdown",
   "id": "978a24fe-cb2e-4efc-a2e5-28e910e871d2",
   "metadata": {},
   "source": [
    "# Software Evolution - Practical Session\n",
    "## Laws of software evolution, code counting, code duplication and dependency analysis\n",
    "## Academic year 2022-2023"
   ]
  },
  {
   "cell_type": "markdown",
   "id": "57eb142c-d3ef-4d5e-94cb-d521369b384b",
   "metadata": {},
   "source": [
    "### Write your answers under the questions that are present in this notebook  \n",
    "\n",
    "### Read Section 1 and Section 2 in the provided description document before proceeding with the following section "
   ]
  },
  {
   "cell_type": "code",
   "execution_count": 54,
   "id": "55d3a082-512b-40e6-95bf-27191ea9aaaa",
   "metadata": {},
   "outputs": [],
   "source": [
    "import os\n",
    "import json\n",
    "from tqdm import tqdm\n",
    "import pandas as pd\n",
    "import numpy as np\n",
    "import matplotlib.pyplot as plt\n",
    "import subprocess\n",
    "import math\n",
    "from pandas import option_context\n",
    "from sklearn.linear_model import LinearRegression\n",
    "from sklearn.preprocessing import PolynomialFeatures\n",
    "from datetime import datetime"
   ]
  },
  {
   "cell_type": "markdown",
   "id": "6d83b58e-d5ad-4004-8cc5-e4b31721bb12",
   "metadata": {},
   "source": [
    "## 2. Verifying laws of software evolution"
   ]
  },
  {
   "cell_type": "code",
   "execution_count": 2,
   "id": "0f76117a-1a18-4cb5-8ed0-3fa9cfdfc31c",
   "metadata": {},
   "outputs": [],
   "source": [
    "#Enter the path where the Eucalyptus project is present\n",
    "eucalyptus_project_path = '../eucalyptus/'"
   ]
  },
  {
   "cell_type": "markdown",
   "id": "081450a6-87af-484c-8a64-56d49eccff80",
   "metadata": {},
   "source": [
    "### 2.1 Data prepocessing\n",
    "1. Get all the tags present in the eucalyptus project using CLOC\n",
    "2. Filter out the tags that do not correspond to official releases"
   ]
  },
  {
   "cell_type": "markdown",
   "id": "340322a1-719b-472b-8b2a-40c974224c1c",
   "metadata": {},
   "source": [
    "Code hint:  \n",
    "To get the tags that are present in the project - \"command = f'git -C {eucalyptus_project_path} tag -l --format=\"%(refname:short)\" | sort -r'\"   \n",
    "To read the terminal output - 'process = subprocess.Popen(command, stdout=subprocess.PIPE, shell=True)'"
   ]
  },
  {
   "cell_type": "code",
   "execution_count": 26,
   "id": "8cede273-9ee7-4e38-b340-9ad4eca08c18",
   "metadata": {},
   "outputs": [],
   "source": [
    "command = f'git -C {eucalyptus_project_path} tag -l --format=\"%(refname:short)\"|sort -r'\n",
    "process = subprocess.Popen(command, stdout=subprocess.PIPE, shell=True)\n",
    "\n",
    "raw_tags = list(line.strip().decode('utf-8') for line in process.stdout)"
   ]
  },
  {
   "cell_type": "code",
   "execution_count": 35,
   "id": "e8ed2aea-5e29-4cfa-82fa-f43e233fb5ee",
   "metadata": {},
   "outputs": [],
   "source": [
    "tags = []\n",
    "for tag in raw_tags:\n",
    "    if 'alpha' in tag or 'beta' in tag or 'rc' in tag or 'm' in tag or 'branch' in tag or tag[-1].isalpha():\n",
    "        continue\n",
    "    \n",
    "    if tag[0] == 'v':\n",
    "        tag = tag[1:]\n",
    "        \n",
    "    if len(tag.split('.')) > 3:\n",
    "        continue\n",
    "    \n",
    "    tags.append(tag)\n",
    "\n",
    "major_minor_patch_versions = ['1.4','1.5.0','1.5.1','1.5.2','1.6.1','2.0.0','2.0.1','3.0.0','3.0.1','3.1.0','3.1.1','3.1.2','3.2.0','3.2.1',\n",
    "                              '3.2.2','3.3.0','3.3.1','3.3.2','3.4.0','3.4.1','3.4.2','v4.0.0','v4.0.1','v4.0.2','v4.1.0','v4.1.1','v4.1.2',\n",
    "                              'v4.2.0','v4.2.1','v4.2.2','v4.3.0','v4.3.1','v4.4.0','v4.4.1','v4.4.2']\n",
    "major_minor_versions = ['1.4','1.5.0','1.6.1','2.0.0','3.0.0','3.1.0','3.2.0','3.3.0','3.4.0','v4.0.0','v4.1.0','v4.2.0','v4.3.0','v4.4.0']"
   ]
  },
  {
   "cell_type": "markdown",
   "id": "aca20a9c-4269-42e0-82d0-ff33d9fe9b30",
   "metadata": {},
   "source": [
    "### 2.2 Law of Increasing Growth\n",
    "1. Fetch the required data (lines of code, blank lines, comment lines and number of files) for each tag along with their release date using CLOC\n",
    "2. Separate the data as following (also mentioned in section 2.1 of the description document)  \n",
    "    a) Consider all the three-component versions (major.minor.patch) - Dataset A  \n",
    "    b) Consider only the minor versions (major.minor) - Dataset B  \n",
    "\n",
    "Note: For example, if there exists any tag like 2.1.0.1, then you can consider it as 2.1.0 provided such a tag does not exist in the data. If both 2.1.0 and 2.1.0.1 exists, then you can ignore the latter "
   ]
  },
  {
   "cell_type": "markdown",
   "id": "cbab47f1-933d-4b28-8a35-f7c3e82cd15c",
   "metadata": {},
   "source": [
    "Code hint:  \n",
    "To set the project to a required tag - \"command = f'git -C {project_path} reset --hard {tag}'\"  \n",
    "For each tag, pass the command to the terminal, invoke cloc tool to get the necessary data in the required format (json, md,...), read the terminal output and store the data"
   ]
  },
  {
   "cell_type": "code",
   "execution_count": 55,
   "id": "aefb6d51-33bb-4a0c-95ea-aac4f62c3366",
   "metadata": {},
   "outputs": [],
   "source": [
    "def extract(tags):\n",
    "    df = []\n",
    "    for i, tag in enumerate(tags):\n",
    "        print(f'Processing {tag} ({i+1}/{len(tags)})', end='\\r')\n",
    "        \n",
    "        command = f'git -C {eucalyptus_project_path} reset --hard {tag}'\n",
    "        process = subprocess.Popen(command, stdout=subprocess.PIPE, shell=True)\n",
    "        \n",
    "        command = f'git -C {eucalyptus_project_path} tag -l --format=\"%(refname:short)|%(creatordate:short)\" | sort -r' # to get the release date\n",
    "        process = subprocess.Popen(command, stdout=subprocess.PIPE, shell=True)\n",
    "        \n",
    "        release_date = list(line.strip().decode('utf-8') for line in process.stdout)\n",
    "        for value in release_date:\n",
    "            if value.startswith(tag):\n",
    "                release_date = value.split('|')[1]\n",
    "                break\n",
    "        release_date = datetime.strptime(release_date, '%Y-%m-%d')\n",
    "                \n",
    "        command = f'cloc --json {eucalyptus_project_path}'\n",
    "        process = subprocess.Popen(command, stdout=subprocess.PIPE, shell=True)\n",
    "        \n",
    "        output = process.communicate()[0].decode('utf-8')\n",
    "        \n",
    "        for key, data in json.loads(output).items():\n",
    "            if key == 'Java':\n",
    "                # Replace the following code with pd.concat\n",
    "                df.append({\n",
    "                    'release date': release_date,\n",
    "                    'tag': tag,\n",
    "                    'lines of code': data['code'], \n",
    "                    'blank lines': data['blank'], \n",
    "                    'comment lines': data['comment'], \n",
    "                    'number of files': data['nFiles']\n",
    "                })\n",
    "                break\n",
    "    \n",
    "    return pd.DataFrame(df)"
   ]
  },
  {
   "cell_type": "code",
   "execution_count": 56,
   "id": "c9d32893-d57a-4edc-b1e7-1825b64ae9c9",
   "metadata": {},
   "outputs": [
    {
     "name": "stdout",
     "output_type": "stream",
     "text": [
      "Processing v4.1.0 (11/14)\r"
     ]
    },
    {
     "name": "stderr",
     "output_type": "stream",
     "text": [
      "\n",
      "1 error:\n",
      "Line count, exceeded timeout:  ../eucalyptus/net/globalnetwork.c\n"
     ]
    },
    {
     "name": "stdout",
     "output_type": "stream",
     "text": [
      "Processing v4.4.0 (14/14)\r"
     ]
    },
    {
     "data": {
      "text/html": [
       "<div>\n",
       "<style scoped>\n",
       "    .dataframe tbody tr th:only-of-type {\n",
       "        vertical-align: middle;\n",
       "    }\n",
       "\n",
       "    .dataframe tbody tr th {\n",
       "        vertical-align: top;\n",
       "    }\n",
       "\n",
       "    .dataframe thead th {\n",
       "        text-align: right;\n",
       "    }\n",
       "</style>\n",
       "<table border=\"1\" class=\"dataframe\">\n",
       "  <thead>\n",
       "    <tr style=\"text-align: right;\">\n",
       "      <th></th>\n",
       "      <th>release date</th>\n",
       "      <th>tag</th>\n",
       "      <th>lines of code</th>\n",
       "      <th>blank lines</th>\n",
       "      <th>comment lines</th>\n",
       "      <th>number of files</th>\n",
       "    </tr>\n",
       "  </thead>\n",
       "  <tbody>\n",
       "    <tr>\n",
       "      <th>0</th>\n",
       "      <td>2009-01-06</td>\n",
       "      <td>1.4</td>\n",
       "      <td>21281</td>\n",
       "      <td>4076</td>\n",
       "      <td>6750</td>\n",
       "      <td>235</td>\n",
       "    </tr>\n",
       "    <tr>\n",
       "      <th>1</th>\n",
       "      <td>2009-02-18</td>\n",
       "      <td>1.5.0</td>\n",
       "      <td>29898</td>\n",
       "      <td>5458</td>\n",
       "      <td>13558</td>\n",
       "      <td>295</td>\n",
       "    </tr>\n",
       "    <tr>\n",
       "      <th>2</th>\n",
       "      <td>2009-11-05</td>\n",
       "      <td>1.6.1</td>\n",
       "      <td>44375</td>\n",
       "      <td>7477</td>\n",
       "      <td>27525</td>\n",
       "      <td>469</td>\n",
       "    </tr>\n",
       "    <tr>\n",
       "      <th>3</th>\n",
       "      <td>2010-06-05</td>\n",
       "      <td>2.0.0</td>\n",
       "      <td>55500</td>\n",
       "      <td>8508</td>\n",
       "      <td>26564</td>\n",
       "      <td>620</td>\n",
       "    </tr>\n",
       "    <tr>\n",
       "      <th>4</th>\n",
       "      <td>2012-02-07</td>\n",
       "      <td>3.0.0</td>\n",
       "      <td>108162</td>\n",
       "      <td>17384</td>\n",
       "      <td>39347</td>\n",
       "      <td>1092</td>\n",
       "    </tr>\n",
       "    <tr>\n",
       "      <th>5</th>\n",
       "      <td>2012-06-22</td>\n",
       "      <td>3.1.0</td>\n",
       "      <td>110481</td>\n",
       "      <td>17863</td>\n",
       "      <td>41082</td>\n",
       "      <td>1099</td>\n",
       "    </tr>\n",
       "    <tr>\n",
       "      <th>6</th>\n",
       "      <td>2012-12-17</td>\n",
       "      <td>3.2.0</td>\n",
       "      <td>123796</td>\n",
       "      <td>20497</td>\n",
       "      <td>78890</td>\n",
       "      <td>1219</td>\n",
       "    </tr>\n",
       "    <tr>\n",
       "      <th>7</th>\n",
       "      <td>2013-06-20</td>\n",
       "      <td>3.3.0</td>\n",
       "      <td>165514</td>\n",
       "      <td>26729</td>\n",
       "      <td>87976</td>\n",
       "      <td>1484</td>\n",
       "    </tr>\n",
       "    <tr>\n",
       "      <th>8</th>\n",
       "      <td>2013-10-24</td>\n",
       "      <td>3.4.0</td>\n",
       "      <td>173606</td>\n",
       "      <td>27788</td>\n",
       "      <td>91737</td>\n",
       "      <td>1573</td>\n",
       "    </tr>\n",
       "    <tr>\n",
       "      <th>9</th>\n",
       "      <td>2014-05-30</td>\n",
       "      <td>v4.0.0</td>\n",
       "      <td>210843</td>\n",
       "      <td>33099</td>\n",
       "      <td>96395</td>\n",
       "      <td>1822</td>\n",
       "    </tr>\n",
       "    <tr>\n",
       "      <th>10</th>\n",
       "      <td>2015-01-28</td>\n",
       "      <td>v4.1.0</td>\n",
       "      <td>258563</td>\n",
       "      <td>41861</td>\n",
       "      <td>139440</td>\n",
       "      <td>2237</td>\n",
       "    </tr>\n",
       "    <tr>\n",
       "      <th>11</th>\n",
       "      <td>2015-10-22</td>\n",
       "      <td>v4.2.0</td>\n",
       "      <td>261180</td>\n",
       "      <td>42292</td>\n",
       "      <td>139861</td>\n",
       "      <td>2326</td>\n",
       "    </tr>\n",
       "    <tr>\n",
       "      <th>12</th>\n",
       "      <td>2016-08-09</td>\n",
       "      <td>v4.3.0</td>\n",
       "      <td>276367</td>\n",
       "      <td>44371</td>\n",
       "      <td>145412</td>\n",
       "      <td>2415</td>\n",
       "    </tr>\n",
       "    <tr>\n",
       "      <th>13</th>\n",
       "      <td>2017-03-07</td>\n",
       "      <td>v4.4.0</td>\n",
       "      <td>292983</td>\n",
       "      <td>48054</td>\n",
       "      <td>150375</td>\n",
       "      <td>2635</td>\n",
       "    </tr>\n",
       "  </tbody>\n",
       "</table>\n",
       "</div>"
      ],
      "text/plain": [
       "   release date     tag  lines of code  blank lines  comment lines  \\\n",
       "0    2009-01-06     1.4          21281         4076           6750   \n",
       "1    2009-02-18   1.5.0          29898         5458          13558   \n",
       "2    2009-11-05   1.6.1          44375         7477          27525   \n",
       "3    2010-06-05   2.0.0          55500         8508          26564   \n",
       "4    2012-02-07   3.0.0         108162        17384          39347   \n",
       "5    2012-06-22   3.1.0         110481        17863          41082   \n",
       "6    2012-12-17   3.2.0         123796        20497          78890   \n",
       "7    2013-06-20   3.3.0         165514        26729          87976   \n",
       "8    2013-10-24   3.4.0         173606        27788          91737   \n",
       "9    2014-05-30  v4.0.0         210843        33099          96395   \n",
       "10   2015-01-28  v4.1.0         258563        41861         139440   \n",
       "11   2015-10-22  v4.2.0         261180        42292         139861   \n",
       "12   2016-08-09  v4.3.0         276367        44371         145412   \n",
       "13   2017-03-07  v4.4.0         292983        48054         150375   \n",
       "\n",
       "    number of files  \n",
       "0               235  \n",
       "1               295  \n",
       "2               469  \n",
       "3               620  \n",
       "4              1092  \n",
       "5              1099  \n",
       "6              1219  \n",
       "7              1484  \n",
       "8              1573  \n",
       "9              1822  \n",
       "10             2237  \n",
       "11             2326  \n",
       "12             2415  \n",
       "13             2635  "
      ]
     },
     "execution_count": 56,
     "metadata": {},
     "output_type": "execute_result"
    }
   ],
   "source": [
    "# Your code here to get the versions of the form major.minor \n",
    "dataset_B = extract(major_minor_versions)\n",
    "dataset_B"
   ]
  },
  {
   "cell_type": "code",
   "execution_count": 57,
   "id": "1b8ba85a-ea94-4cc3-980e-46d42f59ef0e",
   "metadata": {},
   "outputs": [
    {
     "name": "stdout",
     "output_type": "stream",
     "text": [
      "Processing v4.1.0 (25/35)\r"
     ]
    },
    {
     "name": "stderr",
     "output_type": "stream",
     "text": [
      "\n",
      "1 error:\n",
      "Line count, exceeded timeout:  ../eucalyptus/net/globalnetwork.c\n"
     ]
    },
    {
     "name": "stdout",
     "output_type": "stream",
     "text": [
      "Processing v4.4.2 (35/35)\r"
     ]
    },
    {
     "data": {
      "text/html": [
       "<div>\n",
       "<style scoped>\n",
       "    .dataframe tbody tr th:only-of-type {\n",
       "        vertical-align: middle;\n",
       "    }\n",
       "\n",
       "    .dataframe tbody tr th {\n",
       "        vertical-align: top;\n",
       "    }\n",
       "\n",
       "    .dataframe thead th {\n",
       "        text-align: right;\n",
       "    }\n",
       "</style>\n",
       "<table border=\"1\" class=\"dataframe\">\n",
       "  <thead>\n",
       "    <tr style=\"text-align: right;\">\n",
       "      <th></th>\n",
       "      <th>release date</th>\n",
       "      <th>tag</th>\n",
       "      <th>lines of code</th>\n",
       "      <th>blank lines</th>\n",
       "      <th>comment lines</th>\n",
       "      <th>number of files</th>\n",
       "    </tr>\n",
       "  </thead>\n",
       "  <tbody>\n",
       "    <tr>\n",
       "      <th>0</th>\n",
       "      <td>2009-01-06</td>\n",
       "      <td>1.4</td>\n",
       "      <td>21281</td>\n",
       "      <td>4076</td>\n",
       "      <td>6750</td>\n",
       "      <td>235</td>\n",
       "    </tr>\n",
       "    <tr>\n",
       "      <th>1</th>\n",
       "      <td>2009-02-18</td>\n",
       "      <td>1.5.0</td>\n",
       "      <td>29898</td>\n",
       "      <td>5458</td>\n",
       "      <td>13558</td>\n",
       "      <td>295</td>\n",
       "    </tr>\n",
       "    <tr>\n",
       "      <th>2</th>\n",
       "      <td>2009-08-05</td>\n",
       "      <td>1.5.1</td>\n",
       "      <td>35003</td>\n",
       "      <td>6280</td>\n",
       "      <td>13506</td>\n",
       "      <td>367</td>\n",
       "    </tr>\n",
       "    <tr>\n",
       "      <th>3</th>\n",
       "      <td>2009-08-17</td>\n",
       "      <td>1.5.2</td>\n",
       "      <td>33486</td>\n",
       "      <td>5912</td>\n",
       "      <td>7302</td>\n",
       "      <td>367</td>\n",
       "    </tr>\n",
       "    <tr>\n",
       "      <th>4</th>\n",
       "      <td>2009-11-05</td>\n",
       "      <td>1.6.1</td>\n",
       "      <td>44375</td>\n",
       "      <td>7477</td>\n",
       "      <td>27525</td>\n",
       "      <td>469</td>\n",
       "    </tr>\n",
       "    <tr>\n",
       "      <th>5</th>\n",
       "      <td>2010-06-05</td>\n",
       "      <td>2.0.0</td>\n",
       "      <td>52357</td>\n",
       "      <td>7984</td>\n",
       "      <td>25866</td>\n",
       "      <td>578</td>\n",
       "    </tr>\n",
       "    <tr>\n",
       "      <th>6</th>\n",
       "      <td>2010-07-06</td>\n",
       "      <td>2.0.1</td>\n",
       "      <td>65668</td>\n",
       "      <td>9845</td>\n",
       "      <td>29374</td>\n",
       "      <td>717</td>\n",
       "    </tr>\n",
       "    <tr>\n",
       "      <th>7</th>\n",
       "      <td>2012-02-07</td>\n",
       "      <td>3.0.0</td>\n",
       "      <td>108162</td>\n",
       "      <td>17384</td>\n",
       "      <td>39347</td>\n",
       "      <td>1092</td>\n",
       "    </tr>\n",
       "    <tr>\n",
       "      <th>8</th>\n",
       "      <td>2012-03-12</td>\n",
       "      <td>3.0.1</td>\n",
       "      <td>108832</td>\n",
       "      <td>17489</td>\n",
       "      <td>40156</td>\n",
       "      <td>1094</td>\n",
       "    </tr>\n",
       "    <tr>\n",
       "      <th>9</th>\n",
       "      <td>2012-06-22</td>\n",
       "      <td>3.1.0</td>\n",
       "      <td>110481</td>\n",
       "      <td>17863</td>\n",
       "      <td>41082</td>\n",
       "      <td>1099</td>\n",
       "    </tr>\n",
       "    <tr>\n",
       "      <th>10</th>\n",
       "      <td>2012-09-17</td>\n",
       "      <td>3.1.1</td>\n",
       "      <td>110895</td>\n",
       "      <td>17931</td>\n",
       "      <td>41293</td>\n",
       "      <td>1101</td>\n",
       "    </tr>\n",
       "    <tr>\n",
       "      <th>11</th>\n",
       "      <td>2012-09-27</td>\n",
       "      <td>3.1.2</td>\n",
       "      <td>110895</td>\n",
       "      <td>17931</td>\n",
       "      <td>41293</td>\n",
       "      <td>1101</td>\n",
       "    </tr>\n",
       "    <tr>\n",
       "      <th>12</th>\n",
       "      <td>2012-12-17</td>\n",
       "      <td>3.2.0</td>\n",
       "      <td>123796</td>\n",
       "      <td>20497</td>\n",
       "      <td>78890</td>\n",
       "      <td>1219</td>\n",
       "    </tr>\n",
       "    <tr>\n",
       "      <th>13</th>\n",
       "      <td>2013-02-28</td>\n",
       "      <td>3.2.1</td>\n",
       "      <td>124491</td>\n",
       "      <td>20651</td>\n",
       "      <td>79200</td>\n",
       "      <td>1221</td>\n",
       "    </tr>\n",
       "    <tr>\n",
       "      <th>14</th>\n",
       "      <td>2013-04-16</td>\n",
       "      <td>3.2.2</td>\n",
       "      <td>124519</td>\n",
       "      <td>20645</td>\n",
       "      <td>79077</td>\n",
       "      <td>1219</td>\n",
       "    </tr>\n",
       "    <tr>\n",
       "      <th>15</th>\n",
       "      <td>2013-06-20</td>\n",
       "      <td>3.3.0</td>\n",
       "      <td>165514</td>\n",
       "      <td>26729</td>\n",
       "      <td>87976</td>\n",
       "      <td>1484</td>\n",
       "    </tr>\n",
       "    <tr>\n",
       "      <th>16</th>\n",
       "      <td>2013-09-11</td>\n",
       "      <td>3.3.1</td>\n",
       "      <td>166589</td>\n",
       "      <td>26800</td>\n",
       "      <td>88290</td>\n",
       "      <td>1487</td>\n",
       "    </tr>\n",
       "    <tr>\n",
       "      <th>17</th>\n",
       "      <td>2013-10-24</td>\n",
       "      <td>3.3.2</td>\n",
       "      <td>166594</td>\n",
       "      <td>26799</td>\n",
       "      <td>88290</td>\n",
       "      <td>1487</td>\n",
       "    </tr>\n",
       "    <tr>\n",
       "      <th>18</th>\n",
       "      <td>2013-10-24</td>\n",
       "      <td>3.4.0</td>\n",
       "      <td>173606</td>\n",
       "      <td>27788</td>\n",
       "      <td>91737</td>\n",
       "      <td>1573</td>\n",
       "    </tr>\n",
       "    <tr>\n",
       "      <th>19</th>\n",
       "      <td>2013-12-16</td>\n",
       "      <td>3.4.1</td>\n",
       "      <td>173387</td>\n",
       "      <td>27846</td>\n",
       "      <td>91791</td>\n",
       "      <td>1577</td>\n",
       "    </tr>\n",
       "    <tr>\n",
       "      <th>20</th>\n",
       "      <td>2014-02-25</td>\n",
       "      <td>3.4.2</td>\n",
       "      <td>173833</td>\n",
       "      <td>27892</td>\n",
       "      <td>91798</td>\n",
       "      <td>1577</td>\n",
       "    </tr>\n",
       "    <tr>\n",
       "      <th>21</th>\n",
       "      <td>2014-05-30</td>\n",
       "      <td>v4.0.0</td>\n",
       "      <td>210843</td>\n",
       "      <td>33099</td>\n",
       "      <td>96395</td>\n",
       "      <td>1822</td>\n",
       "    </tr>\n",
       "    <tr>\n",
       "      <th>22</th>\n",
       "      <td>2014-08-04</td>\n",
       "      <td>v4.0.1</td>\n",
       "      <td>211338</td>\n",
       "      <td>33145</td>\n",
       "      <td>96446</td>\n",
       "      <td>1822</td>\n",
       "    </tr>\n",
       "    <tr>\n",
       "      <th>23</th>\n",
       "      <td>2014-11-03</td>\n",
       "      <td>v4.0.2</td>\n",
       "      <td>211726</td>\n",
       "      <td>33222</td>\n",
       "      <td>96784</td>\n",
       "      <td>1828</td>\n",
       "    </tr>\n",
       "    <tr>\n",
       "      <th>24</th>\n",
       "      <td>2015-01-28</td>\n",
       "      <td>v4.1.0</td>\n",
       "      <td>258563</td>\n",
       "      <td>41861</td>\n",
       "      <td>139440</td>\n",
       "      <td>2237</td>\n",
       "    </tr>\n",
       "    <tr>\n",
       "      <th>25</th>\n",
       "      <td>2015-05-07</td>\n",
       "      <td>v4.1.1</td>\n",
       "      <td>258772</td>\n",
       "      <td>41941</td>\n",
       "      <td>139693</td>\n",
       "      <td>2242</td>\n",
       "    </tr>\n",
       "    <tr>\n",
       "      <th>26</th>\n",
       "      <td>2015-07-28</td>\n",
       "      <td>v4.1.2</td>\n",
       "      <td>258984</td>\n",
       "      <td>41973</td>\n",
       "      <td>139712</td>\n",
       "      <td>2242</td>\n",
       "    </tr>\n",
       "    <tr>\n",
       "      <th>27</th>\n",
       "      <td>2015-10-22</td>\n",
       "      <td>v4.2.0</td>\n",
       "      <td>261180</td>\n",
       "      <td>42292</td>\n",
       "      <td>139861</td>\n",
       "      <td>2326</td>\n",
       "    </tr>\n",
       "    <tr>\n",
       "      <th>28</th>\n",
       "      <td>2015-12-07</td>\n",
       "      <td>v4.2.1</td>\n",
       "      <td>261549</td>\n",
       "      <td>42361</td>\n",
       "      <td>139893</td>\n",
       "      <td>2326</td>\n",
       "    </tr>\n",
       "    <tr>\n",
       "      <th>29</th>\n",
       "      <td>2016-04-27</td>\n",
       "      <td>v4.2.2</td>\n",
       "      <td>262202</td>\n",
       "      <td>42430</td>\n",
       "      <td>140031</td>\n",
       "      <td>2328</td>\n",
       "    </tr>\n",
       "    <tr>\n",
       "      <th>30</th>\n",
       "      <td>2016-08-09</td>\n",
       "      <td>v4.3.0</td>\n",
       "      <td>276367</td>\n",
       "      <td>44371</td>\n",
       "      <td>145412</td>\n",
       "      <td>2415</td>\n",
       "    </tr>\n",
       "    <tr>\n",
       "      <th>31</th>\n",
       "      <td>2016-12-14</td>\n",
       "      <td>v4.3.1</td>\n",
       "      <td>276437</td>\n",
       "      <td>44373</td>\n",
       "      <td>145416</td>\n",
       "      <td>2415</td>\n",
       "    </tr>\n",
       "    <tr>\n",
       "      <th>32</th>\n",
       "      <td>2017-03-07</td>\n",
       "      <td>v4.4.0</td>\n",
       "      <td>292983</td>\n",
       "      <td>48054</td>\n",
       "      <td>150375</td>\n",
       "      <td>2635</td>\n",
       "    </tr>\n",
       "    <tr>\n",
       "      <th>33</th>\n",
       "      <td>2017-05-08</td>\n",
       "      <td>v4.4.1</td>\n",
       "      <td>293491</td>\n",
       "      <td>48098</td>\n",
       "      <td>150491</td>\n",
       "      <td>2636</td>\n",
       "    </tr>\n",
       "    <tr>\n",
       "      <th>34</th>\n",
       "      <td>2017-08-30</td>\n",
       "      <td>v4.4.2</td>\n",
       "      <td>293669</td>\n",
       "      <td>48101</td>\n",
       "      <td>150484</td>\n",
       "      <td>2636</td>\n",
       "    </tr>\n",
       "  </tbody>\n",
       "</table>\n",
       "</div>"
      ],
      "text/plain": [
       "   release date     tag  lines of code  blank lines  comment lines  \\\n",
       "0    2009-01-06     1.4          21281         4076           6750   \n",
       "1    2009-02-18   1.5.0          29898         5458          13558   \n",
       "2    2009-08-05   1.5.1          35003         6280          13506   \n",
       "3    2009-08-17   1.5.2          33486         5912           7302   \n",
       "4    2009-11-05   1.6.1          44375         7477          27525   \n",
       "5    2010-06-05   2.0.0          52357         7984          25866   \n",
       "6    2010-07-06   2.0.1          65668         9845          29374   \n",
       "7    2012-02-07   3.0.0         108162        17384          39347   \n",
       "8    2012-03-12   3.0.1         108832        17489          40156   \n",
       "9    2012-06-22   3.1.0         110481        17863          41082   \n",
       "10   2012-09-17   3.1.1         110895        17931          41293   \n",
       "11   2012-09-27   3.1.2         110895        17931          41293   \n",
       "12   2012-12-17   3.2.0         123796        20497          78890   \n",
       "13   2013-02-28   3.2.1         124491        20651          79200   \n",
       "14   2013-04-16   3.2.2         124519        20645          79077   \n",
       "15   2013-06-20   3.3.0         165514        26729          87976   \n",
       "16   2013-09-11   3.3.1         166589        26800          88290   \n",
       "17   2013-10-24   3.3.2         166594        26799          88290   \n",
       "18   2013-10-24   3.4.0         173606        27788          91737   \n",
       "19   2013-12-16   3.4.1         173387        27846          91791   \n",
       "20   2014-02-25   3.4.2         173833        27892          91798   \n",
       "21   2014-05-30  v4.0.0         210843        33099          96395   \n",
       "22   2014-08-04  v4.0.1         211338        33145          96446   \n",
       "23   2014-11-03  v4.0.2         211726        33222          96784   \n",
       "24   2015-01-28  v4.1.0         258563        41861         139440   \n",
       "25   2015-05-07  v4.1.1         258772        41941         139693   \n",
       "26   2015-07-28  v4.1.2         258984        41973         139712   \n",
       "27   2015-10-22  v4.2.0         261180        42292         139861   \n",
       "28   2015-12-07  v4.2.1         261549        42361         139893   \n",
       "29   2016-04-27  v4.2.2         262202        42430         140031   \n",
       "30   2016-08-09  v4.3.0         276367        44371         145412   \n",
       "31   2016-12-14  v4.3.1         276437        44373         145416   \n",
       "32   2017-03-07  v4.4.0         292983        48054         150375   \n",
       "33   2017-05-08  v4.4.1         293491        48098         150491   \n",
       "34   2017-08-30  v4.4.2         293669        48101         150484   \n",
       "\n",
       "    number of files  \n",
       "0               235  \n",
       "1               295  \n",
       "2               367  \n",
       "3               367  \n",
       "4               469  \n",
       "5               578  \n",
       "6               717  \n",
       "7              1092  \n",
       "8              1094  \n",
       "9              1099  \n",
       "10             1101  \n",
       "11             1101  \n",
       "12             1219  \n",
       "13             1221  \n",
       "14             1219  \n",
       "15             1484  \n",
       "16             1487  \n",
       "17             1487  \n",
       "18             1573  \n",
       "19             1577  \n",
       "20             1577  \n",
       "21             1822  \n",
       "22             1822  \n",
       "23             1828  \n",
       "24             2237  \n",
       "25             2242  \n",
       "26             2242  \n",
       "27             2326  \n",
       "28             2326  \n",
       "29             2328  \n",
       "30             2415  \n",
       "31             2415  \n",
       "32             2635  \n",
       "33             2636  \n",
       "34             2636  "
      ]
     },
     "execution_count": 57,
     "metadata": {},
     "output_type": "execute_result"
    }
   ],
   "source": [
    "# Your code here to get the versions of the form major.minor.patch\n",
    "dataset_A = extract(major_minor_patch_versions)\n",
    "dataset_A"
   ]
  },
  {
   "cell_type": "markdown",
   "id": "5635bd4d-979b-44a2-ae4a-1962b170445a",
   "metadata": {},
   "source": [
    "#### Visualization\n",
    "1. x-axis = version, y-axis = number  \n",
    "    i) for tags of the type major.minor.patch  \n",
    "    ii) for tags of the type major.minor  \n",
    "\n",
    "2. x-axis = date, y-axis = number  \n",
    "    i) for tags of the type major.minor.patch  \n",
    "    ii) for tags of the type major.minor  \n",
    "\n",
    "For easy comparison, place the plots with the versions on x-axis should be on the top (0,0) and (1,0) and their corresponding plots with date on the x-axis right below them (1,0) and (1,1) "
   ]
  },
  {
   "cell_type": "code",
   "execution_count": 61,
   "id": "2b146e1b-99f4-4a0f-8202-2231a10a86b2",
   "metadata": {},
   "outputs": [
    {
     "data": {
      "image/png": "[encoded data removed]",
      "text/plain": [
       "<Figure size 2000x1200 with 4 Axes>"
      ]
     },
     "metadata": {},
     "output_type": "display_data"
    }
   ],
   "source": [
    "# Your plotting code here\n",
    "fig, axes = plt.subplots(2, 2, figsize=(20, 12))\n",
    "\n",
    "for x, type_name in enumerate(['tag', 'release date']):\n",
    "    for y, df in enumerate([dataset_A, dataset_B]):\n",
    "        axes[x, y].plot(df[type_name], df['lines of code'])\n",
    "        axes[x, y].plot(df[type_name], df['blank lines'])\n",
    "        axes[x, y].plot(df[type_name], df['comment lines'])\n",
    "        axes[x, y].plot(df[type_name], df['number of files'])\n",
    "        axes[x, y].tick_params(axis='x', rotation=90)\n",
    "        \n",
    "plt.show()  "
   ]
  },
  {
   "cell_type": "markdown",
   "id": "8774bc4c-9131-425d-b8d2-9d0940e48f6c",
   "metadata": {},
   "source": [
    "### Questions:\n",
    "1. Do you find any difference between the plot that is having date in the x-axis and the plot that is having tag in the x-axis? If yes, then what is the difference? If no, then why is it same?"
   ]
  },
  {
   "attachments": {},
   "cell_type": "markdown",
   "id": "b03dae7d-de25-4146-baf6-d8bfd2419549",
   "metadata": {},
   "source": [
    "Yes there is a small difference. The second plot seems smoother since it takes into account the scale of time."
   ]
  },
  {
   "cell_type": "markdown",
   "id": "edf025c5-9edc-440d-9bee-5dbdf20431bc",
   "metadata": {},
   "source": [
    "2. Which type of plot is preferable for software evolution analysis?   \n",
    "    a) date in x-axis  \n",
    "    b) tag in x-axis  \n",
    "Why?"
   ]
  },
  {
   "attachments": {},
   "cell_type": "markdown",
   "id": "ea949023-d96b-4fdd-9027-d453bdf51e99",
   "metadata": {},
   "source": [
    "It seems that the plot based on the date in x-axis is better since it takes into account the scale of time. "
   ]
  },
  {
   "cell_type": "markdown",
   "id": "6110bbae-e381-43ec-9a51-72bf941e3ced",
   "metadata": {},
   "source": [
    "3. Choose an option regarding the growth of the software by considering Dataset A. Motivate your choice using a 1d regression plot (below).  \n",
    "    a) Linear  \n",
    "    b) Sub-linear  \n",
    "    c) Super-linear  "
   ]
  },
  {
   "attachments": {},
   "cell_type": "markdown",
   "id": "cb637502-7b6c-4eb2-8b9e-6cc2f3793031",
   "metadata": {},
   "source": [
    "Answer A"
   ]
  },
  {
   "cell_type": "code",
   "execution_count": 73,
   "id": "1b3a1dc2-2030-4f14-bf05-147628c7dd65",
   "metadata": {},
   "outputs": [
    {
     "data": {
      "image/png": "[encoded data removed]",
      "text/plain": [
       "<Figure size 1000x700 with 1 Axes>"
      ]
     },
     "metadata": {},
     "output_type": "display_data"
    }
   ],
   "source": [
    "import matplotlib.dates as mdates\n",
    "\n",
    "plt.figure(figsize=(10, 7))\n",
    "\n",
    "def plot_for_tag(tag_name):\n",
    "    plt.scatter(dataset_A['release date'], dataset_A[tag_name], label=tag_name)\n",
    "\n",
    "    x = mdates.date2num(dataset_A['release date'])\n",
    "    y = dataset_A[tag_name]\n",
    "    z = np.polyfit(x, y, 1)\n",
    "    p = np.poly1d(z)\n",
    "    plt.plot(dataset_A['release date'], p(x), \"b--\")\n",
    "    \n",
    "plot_for_tag('lines of code')\n",
    "plot_for_tag('blank lines')\n",
    "plot_for_tag('comment lines')\n",
    "plot_for_tag('number of files')\n",
    "plt.legend()\n",
    "plt.show()"
   ]
  },
  {
   "cell_type": "markdown",
   "id": "c7cc92a4-8386-4359-b041-ce267552a09a",
   "metadata": {},
   "source": [
    "### Correlation \n",
    "Correlation is generally used to analyse the relationship between variables. Here, analyse the relationship between the number of lines of code and the number of files using Spearman correlation and Pearson correlation by considering Dataset A. Report the correlation upto 3 decimal places"
   ]
  },
  {
   "cell_type": "code",
   "execution_count": 75,
   "id": "70749ee7-78a8-4344-90cb-2ff0b6a0572f",
   "metadata": {},
   "outputs": [
    {
     "name": "stdout",
     "output_type": "stream",
     "text": [
      "Spearman correlation: 0.999\n",
      "Pearson correlation: 0.998\n"
     ]
    }
   ],
   "source": [
    "def spearman_correlation(x, y):\n",
    "    return round(x.corr(y, method='spearman'), 3)\n",
    "\n",
    "def pearson_correlation(x, y):\n",
    "    return round(x.corr(y, method='pearson'), 3)\n",
    "\n",
    "spearman_res = spearman_correlation(dataset_A['lines of code'], dataset_A['number of files'])\n",
    "pearson_res = pearson_correlation(dataset_A['lines of code'], dataset_A['number of files'])\n",
    "\n",
    "print(f'Spearman correlation: {spearman_res}')\n",
    "print(f'Pearson correlation: {pearson_res}')"
   ]
  },
  {
   "cell_type": "markdown",
   "id": "3e8f82aa-ce42-4355-8de1-916e371f5af2",
   "metadata": {},
   "source": [
    "### Questions:\n",
    "4. Do you find any difference in correlation values between Pearson and Spearman? Which one is preferable for this use case? why?"
   ]
  },
  {
   "attachments": {},
   "cell_type": "markdown",
   "id": "b6e1599e-113c-4bfa-9c0b-eac18aae3a27",
   "metadata": {},
   "source": [
    "The difference is very subtle and the Spearman method show a small difference of 0.01. The Spearman method seems more useful since it does not only take into account the linearity correlation, but also the correlation in the sense of monotonic functions, thus increasing or decreasing."
   ]
  },
  {
   "cell_type": "markdown",
   "id": "fb9a8312-20fd-41f7-875e-668761a998a6",
   "metadata": {},
   "source": [
    "5. Based on the above correlation value, how much is the number of lines of code related to the number of files?"
   ]
  },
  {
   "attachments": {},
   "cell_type": "markdown",
   "id": "4ebe75dc-cb80-469b-909d-ca4293365f25",
   "metadata": {},
   "source": [
    "At 99.9%."
   ]
  },
  {
   "cell_type": "markdown",
   "id": "72e2ea6c-cb13-4dae-8666-ed599c928efe",
   "metadata": {},
   "source": [
    "### Prediction\n",
    "Consider Dataset A for this task. Drop the last two data points in \"number of lines of code\" (LOC) (i.e. drop (LOC) corresponding to v4.4.1 and v4.4.2) and forecast the values for (LOC) for v4.4.1 and v4.4.2 using a basic linear/polynimial regression model.\n",
    "1. Drop the last two data points\n",
    "2. Build a basic regression model\n",
    "3. Ask the model to forecast the next two data points\n",
    "4. Plot the LOC original and forecasted in the same plot. x-axis = date, y-axis = number of lines of code"
   ]
  },
  {
   "cell_type": "code",
   "execution_count": 149,
   "id": "1a8b2e38-2975-439e-81d3-8c6dc46ccab9",
   "metadata": {},
   "outputs": [],
   "source": [
    "polynomial_degree = 3\n",
    "\n",
    "test_df = dataset_A.loc[(dataset_A['tag'] == 'v4.4.2') | (dataset_A['tag'] == 'v4.4.1')]\n",
    "train_df = dataset_A.drop(test_df.index)\n",
    "\n",
    "train_X = mdates.date2num(train_df['release date'].copy()).reshape(-1, 1)\n",
    "train_X = PolynomialFeatures(degree=polynomial_degree, include_bias=False).fit_transform(train_X)\n",
    "train_y = train_df['lines of code']"
   ]
  },
  {
   "cell_type": "code",
   "execution_count": 150,
   "id": "e6141273-c4f5-44a9-ac5d-a548b7a7a189",
   "metadata": {},
   "outputs": [
    {
     "data": {
      "text/plain": [
       "LinearRegression()"
      ]
     },
     "execution_count": 150,
     "metadata": {},
     "output_type": "execute_result"
    }
   ],
   "source": [
    "model = LinearRegression()\n",
    "model.fit(train_X, train_y)\n",
    "model"
   ]
  },
  {
   "cell_type": "code",
   "execution_count": 151,
   "id": "7db7464c-88d3-492d-9078-42e899757af2",
   "metadata": {},
   "outputs": [
    {
     "data": {
      "text/html": [
       "<div>\n",
       "<style scoped>\n",
       "    .dataframe tbody tr th:only-of-type {\n",
       "        vertical-align: middle;\n",
       "    }\n",
       "\n",
       "    .dataframe tbody tr th {\n",
       "        vertical-align: top;\n",
       "    }\n",
       "\n",
       "    .dataframe thead th {\n",
       "        text-align: right;\n",
       "    }\n",
       "</style>\n",
       "<table border=\"1\" class=\"dataframe\">\n",
       "  <thead>\n",
       "    <tr style=\"text-align: right;\">\n",
       "      <th></th>\n",
       "      <th>release date</th>\n",
       "      <th>tag</th>\n",
       "      <th>lines of code</th>\n",
       "      <th>predicted lines of code</th>\n",
       "    </tr>\n",
       "  </thead>\n",
       "  <tbody>\n",
       "    <tr>\n",
       "      <th>0</th>\n",
       "      <td>2009-01-06</td>\n",
       "      <td>1.4</td>\n",
       "      <td>21281</td>\n",
       "      <td>35413.446384</td>\n",
       "    </tr>\n",
       "    <tr>\n",
       "      <th>1</th>\n",
       "      <td>2009-02-18</td>\n",
       "      <td>1.5.0</td>\n",
       "      <td>29898</td>\n",
       "      <td>34493.211074</td>\n",
       "    </tr>\n",
       "    <tr>\n",
       "      <th>2</th>\n",
       "      <td>2009-08-05</td>\n",
       "      <td>1.5.1</td>\n",
       "      <td>35003</td>\n",
       "      <td>33926.014105</td>\n",
       "    </tr>\n",
       "    <tr>\n",
       "      <th>3</th>\n",
       "      <td>2009-08-17</td>\n",
       "      <td>1.5.2</td>\n",
       "      <td>33486</td>\n",
       "      <td>34061.516258</td>\n",
       "    </tr>\n",
       "    <tr>\n",
       "      <th>4</th>\n",
       "      <td>2009-11-05</td>\n",
       "      <td>1.6.1</td>\n",
       "      <td>44375</td>\n",
       "      <td>35530.848451</td>\n",
       "    </tr>\n",
       "  </tbody>\n",
       "</table>\n",
       "</div>"
      ],
      "text/plain": [
       "  release date    tag  lines of code  predicted lines of code\n",
       "0   2009-01-06    1.4          21281             35413.446384\n",
       "1   2009-02-18  1.5.0          29898             34493.211074\n",
       "2   2009-08-05  1.5.1          35003             33926.014105\n",
       "3   2009-08-17  1.5.2          33486             34061.516258\n",
       "4   2009-11-05  1.6.1          44375             35530.848451"
      ]
     },
     "execution_count": 151,
     "metadata": {},
     "output_type": "execute_result"
    }
   ],
   "source": [
    "all_X = mdates.date2num(dataset_A['release date'].copy()).reshape(-1, 1)\n",
    "all_X = PolynomialFeatures(degree=polynomial_degree, include_bias=False).fit_transform(all_X)\n",
    "all_y = dataset_A['lines of code']\n",
    "\n",
    "predict_y = model.predict(all_X)\n",
    "\n",
    "res_df = dataset_A[['release date', 'tag', 'lines of code']].copy()\n",
    "res_df['predicted lines of code'] = predict_y\n",
    "res_df.head()"
   ]
  },
  {
   "cell_type": "code",
   "execution_count": 152,
   "id": "e67d1b02-fc45-480a-8e03-d9a291636a33",
   "metadata": {},
   "outputs": [
    {
     "data": {
      "image/png": "[encoded data removed]",
      "text/plain": [
       "<Figure size 640x480 with 1 Axes>"
      ]
     },
     "metadata": {},
     "output_type": "display_data"
    }
   ],
   "source": [
    "plt.figure()\n",
    "plt.plot(res_df['release date'], res_df['lines of code'], label='actual lines of code')\n",
    "plt.plot(res_df['release date'], res_df['predicted lines of code'], label='predicted lines of code')\n",
    "plt.legend()\n",
    "plt.show()"
   ]
  },
  {
   "cell_type": "code",
   "execution_count": 153,
   "id": "f882fc70",
   "metadata": {},
   "outputs": [
    {
     "data": {
      "text/plain": [
       "0.9833085889049034"
      ]
     },
     "execution_count": 153,
     "metadata": {},
     "output_type": "execute_result"
    }
   ],
   "source": [
    "from sklearn.metrics import r2_score\n",
    "r2_score(res_df['lines of code'], res_df['predicted lines of code'])"
   ]
  },
  {
   "cell_type": "markdown",
   "id": "8bdd2798-1e93-4beb-8339-4e408d3c39c2",
   "metadata": {},
   "source": [
    "### Questions:\n",
    "6. What is the polynomial degree that you adopted to build the model? Why? "
   ]
  },
  {
   "attachments": {},
   "cell_type": "markdown",
   "id": "f3c421f9-c6f2-4350-8ded-a70a974c86d0",
   "metadata": {},
   "source": [
    "3 because it seems to better fit the current data that we had."
   ]
  },
  {
   "cell_type": "markdown",
   "id": "6a98e16e-1114-4f4b-9867-3f60019ee45f",
   "metadata": {},
   "source": [
    "7. What is the coefficient of determination? (R-squared)"
   ]
  },
  {
   "attachments": {},
   "cell_type": "markdown",
   "id": "0954e7aa-cedd-4f1b-bce2-7793c0cf04c7",
   "metadata": {},
   "source": [
    "R² = 0.9833085889049034"
   ]
  },
  {
   "cell_type": "markdown",
   "id": "e621e18e-26a2-4cf5-ab5c-162d87b5889d",
   "metadata": {},
   "source": [
    "8. What is the Root mean square error for the forecasted values?"
   ]
  },
  {
   "cell_type": "markdown",
   "id": "e9e7d092-76af-470a-b85b-563ae5613cf8",
   "metadata": {},
   "source": []
  },
  {
   "cell_type": "markdown",
   "id": "393f2a07-2dd7-4ab3-86c7-0b0ba07f046b",
   "metadata": {},
   "source": [
    "### Filtering on coding langugage"
   ]
  },
  {
   "cell_type": "markdown",
   "id": "76c3ed66-711b-4f01-af30-dac4f927bc88",
   "metadata": {},
   "source": [
    "Consider the prominent langugages used in this software project and plot the distribution of their LOC in a pie chart for the first and the last versions"
   ]
  },
  {
   "cell_type": "code",
   "execution_count": null,
   "id": "9fb22e22-5b37-4a67-9d43-dab4121fa83d",
   "metadata": {},
   "outputs": [],
   "source": [
    "# Your code to get the data for LOC of first and last versions"
   ]
  },
  {
   "cell_type": "code",
   "execution_count": null,
   "id": "dc14b7fe-b4d2-423c-b9c8-b79eb498ef3c",
   "metadata": {},
   "outputs": [],
   "source": [
    "# Your pie chart code here"
   ]
  },
  {
   "cell_type": "markdown",
   "id": "056e7d22-fee2-4efb-ace7-c06b99edbd36",
   "metadata": {},
   "source": [
    "### Question:\n",
    "9. Do you find any significant difference in the distribution of the language used in the software project between its first and the last version? If so, what is the difference and how much is it?"
   ]
  },
  {
   "cell_type": "code",
   "execution_count": null,
   "id": "8397df5e-e0cd-4608-8e28-d94240b7ace9",
   "metadata": {},
   "outputs": [],
   "source": []
  },
  {
   "cell_type": "markdown",
   "id": "44d37ce7-c3ad-4eb9-a7e6-b7f52ac137c1",
   "metadata": {},
   "source": [
    "### Law of increasing growth for coding langugages"
   ]
  },
  {
   "cell_type": "markdown",
   "id": "ededc08c-1bd4-4725-984a-61a71aa240c6",
   "metadata": {},
   "source": [
    "Get the LOC for each of the considered prominent langugages (as above) for each version of the form major.minor.patch  \n",
    "1) Plot the date (x-axis) vs LOC (y-axis) \n",
    "2) Plot the date (x-axis) vs proportional LOC (y-axis). Proportional is LOC of a language/total number of LOC"
   ]
  },
  {
   "cell_type": "code",
   "execution_count": null,
   "id": "ccd66fa9-c455-4339-bf42-e9b881d6ffad",
   "metadata": {},
   "outputs": [],
   "source": [
    "# Your code to get the LOC for each prominent language of each version"
   ]
  },
  {
   "cell_type": "code",
   "execution_count": null,
   "id": "bf843988-362f-4486-9e49-5a641c1d04dc",
   "metadata": {},
   "outputs": [],
   "source": [
    "# Your plotting code here"
   ]
  },
  {
   "cell_type": "markdown",
   "id": "ea3b1876-ad5a-4f90-96e8-ed07e2852101",
   "metadata": {},
   "source": [
    "### Question:\n",
    "10. Does the prominent languages considered by you obey laws of increasing growth?"
   ]
  },
  {
   "cell_type": "markdown",
   "id": "8df7db15-f203-41d6-9bd6-eccf2f9742b5",
   "metadata": {},
   "source": []
  },
  {
   "cell_type": "markdown",
   "id": "478c66e4-4f20-4ed8-98db-70bdcf920fcd",
   "metadata": {},
   "source": [
    "11. Does this software project obey the Law of Increasing Growth?"
   ]
  },
  {
   "cell_type": "markdown",
   "id": "26146858-0cb6-4fd8-9a6b-debef98390b7",
   "metadata": {},
   "source": []
  },
  {
   "cell_type": "markdown",
   "id": "375ae835-c18c-4af3-a730-32d853df034a",
   "metadata": {},
   "source": [
    "### Modify the CLOC parameters"
   ]
  },
  {
   "cell_type": "markdown",
   "id": "b3d71b90-1492-4833-9c0a-c8a0f7446ada",
   "metadata": {},
   "source": [
    "1. Exclude all bank lines and verify if the Law of Increasing Growth still holds good for this filtering"
   ]
  },
  {
   "cell_type": "code",
   "execution_count": null,
   "id": "ff129b14-94ae-460c-bcb3-981180e72db3",
   "metadata": {},
   "outputs": [],
   "source": [
    "# Your code and plot here"
   ]
  },
  {
   "cell_type": "markdown",
   "id": "5cb0cee6-19b3-4e50-8cb5-82eb50736713",
   "metadata": {},
   "source": [
    "2. Exclude all comment lines and verify if the Law of Increasing Growth still holds good for this filtering"
   ]
  },
  {
   "cell_type": "code",
   "execution_count": null,
   "id": "7d971a34-fe97-4793-9864-07b2114ed373",
   "metadata": {},
   "outputs": [],
   "source": [
    "# Your code and plot here"
   ]
  },
  {
   "cell_type": "markdown",
   "id": "16cfd99a-0a91-497d-a1f9-4d7a8d407736",
   "metadata": {},
   "source": [
    "3. Exclude all non-code files (or consider prominent coding langugages used in the project) and and verify if the Law of Increasing Growth still holds good for this filtering"
   ]
  },
  {
   "cell_type": "code",
   "execution_count": null,
   "id": "d4981a7f-f79a-4e62-9ba3-94723a0ad640",
   "metadata": {},
   "outputs": [],
   "source": [
    "# Your code and plot here"
   ]
  },
  {
   "cell_type": "code",
   "execution_count": null,
   "id": "bc0d6002-1014-43d0-8dfc-dae6a8680a04",
   "metadata": {},
   "outputs": [],
   "source": []
  },
  {
   "cell_type": "markdown",
   "id": "5dfd05d1-2dc8-4abc-8d05-639007bf553e",
   "metadata": {},
   "source": [
    "### 2.3 Law of Continuing Change\n",
    "1. Using CLOC tool, find the features such as number of lines of code that are added, modified, removed and same between two consecutive versions\n",
    "2. Consider all the three component versions (major.minor.patch) - Dataset A\n",
    "3. Consider only the minor versions (major.minor) - Dataset B\n",
    "4. Having all the features in the same plot, create two plots (one for Dataset A and another for Dataset B) the outcomes with date on x-axis and the number on y-axis.\n",
    "5. Make a subplot of all the features\n",
    "\n",
    "Code hint:  \n",
    "For each pair of tags, set the original project to the required tag and the copy of the original project to the next tag.  \n",
    "To get the required data in json format - \"command = f'CLOC/cloc --git --diff {first_project_path} {second_project_path} --json'\""
   ]
  },
  {
   "cell_type": "code",
   "execution_count": null,
   "id": "c38f5e8d-245b-4307-9d98-2340cbea06a1",
   "metadata": {},
   "outputs": [],
   "source": [
    "eucalyptus_project_path = '' # your project path here\n",
    "eucalyptus_copy_project_path = '' # your path to the copy of your project here\n",
    "major_minor_patch_versions = '' #set of version that you would like to consider for this analysis"
   ]
  },
  {
   "cell_type": "code",
   "execution_count": null,
   "id": "f0682e1c-dd84-4f31-bdfa-781e5a6ac75f",
   "metadata": {},
   "outputs": [],
   "source": [
    "# Your code here to get the data"
   ]
  },
  {
   "cell_type": "code",
   "execution_count": null,
   "id": "7b5f935d-dc48-4b97-8d5c-9168e372bb47",
   "metadata": {},
   "outputs": [],
   "source": [
    "# Your code here to get the dates corresponding to the tags"
   ]
  },
  {
   "cell_type": "code",
   "execution_count": null,
   "id": "8500a388-8c65-4203-81df-156a9425b67e",
   "metadata": {},
   "outputs": [],
   "source": [
    "# Your plotting code here (all the features in a single plot)"
   ]
  },
  {
   "cell_type": "code",
   "execution_count": null,
   "id": "9505d1a0-2c0d-470a-b545-95680be092f4",
   "metadata": {},
   "outputs": [],
   "source": [
    "# Your plotting code here, different plot for each feature\n",
    "fig,axes = plt.subplots(2,2)"
   ]
  },
  {
   "cell_type": "markdown",
   "id": "a96114cb-aafb-4c57-8bff-af5d309b1994",
   "metadata": {},
   "source": [
    "### Questions:\n",
    "1. Do you find the Law of Continuing Change holding good here? Prove it empirically."
   ]
  },
  {
   "cell_type": "markdown",
   "id": "131fe261-c978-434d-824f-f6e416fb6110",
   "metadata": {},
   "source": []
  },
  {
   "cell_type": "markdown",
   "id": "dd5ee600-da8e-431d-9028-fc3fc3d9f97e",
   "metadata": {},
   "source": [
    "2. Does the law of increasing growth too hold good here?"
   ]
  },
  {
   "cell_type": "markdown",
   "id": "7fe9e863-19a3-4f53-b50e-b8f065615839",
   "metadata": {},
   "source": []
  },
  {
   "cell_type": "markdown",
   "id": "ce62cb54-5d8f-4e65-a50b-b12cd9f6e362",
   "metadata": {},
   "source": [
    "### Law of continuing change for coding languages\n",
    "Consider the prominent languages used in this software project for versions of the form major.minor.patch\n",
    "1. Obtain the number of lines of code that are added, modified, removed and same between two consecutive versions\n",
    "2. Make plots for each parameter (added, modified, removed and same) with date on x-axis  \n",
    "    a) y-axis number of lines of code   \n",
    "    b) y-axis proportional number of lines of code (number of lines of code of that language/total number of lines of code) "
   ]
  },
  {
   "cell_type": "code",
   "execution_count": null,
   "id": "9707b16c-abb1-4ef8-bd77-af85711cd624",
   "metadata": {},
   "outputs": [],
   "source": [
    "# Your code here"
   ]
  },
  {
   "cell_type": "code",
   "execution_count": null,
   "id": "aaf138ba-8d1e-498a-ac34-17c05c1b0b16",
   "metadata": {},
   "outputs": [],
   "source": [
    "# Your plotting code here\n",
    "fig,axes = plt.subplots(2,2)"
   ]
  },
  {
   "cell_type": "markdown",
   "id": "b4297222-6881-4cc5-a335-c707c3c3c0c1",
   "metadata": {},
   "source": [
    "### Question:\n",
    "3. Does the law of continuing change obey here for all the considered prominent langugages? Comment on the rate of growth.  "
   ]
  },
  {
   "cell_type": "markdown",
   "id": "ae7d089a-2bb5-4a18-a6d4-5919fe73a8d9",
   "metadata": {},
   "source": []
  },
  {
   "cell_type": "markdown",
   "id": "ea29d2e5-7f12-46c4-baad-e4abe3406e9f",
   "metadata": {},
   "source": [
    "4. Does this software project obey Law of Continuing Change?"
   ]
  },
  {
   "cell_type": "markdown",
   "id": "0fe3765f-2f31-4ecc-96cf-991cdb610a14",
   "metadata": {},
   "source": []
  },
  {
   "cell_type": "code",
   "execution_count": null,
   "id": "46b3a214-86cd-4f91-9f1c-ca31089a3c21",
   "metadata": {},
   "outputs": [],
   "source": []
  }
 ],
 "metadata": {
  "kernelspec": {
   "display_name": "base",
   "language": "python",
   "name": "python3"
  },
  "language_info": {
   "codemirror_mode": {
    "name": "ipython",
    "version": 3
   },
   "file_extension": ".py",
   "mimetype": "text/x-python",
   "name": "python",
   "nbconvert_exporter": "python",
   "pygments_lexer": "ipython3",
   "version": "3.9.13"
  },
  "vscode": {
   "interpreter": {
    "hash": "73ebbeec0a7eadb090bdfc8a9b73d62770b8d7bace63bbc2e464072a3489f89d"
   }
  }
 },
 "nbformat": 4,
 "nbformat_minor": 5
}
